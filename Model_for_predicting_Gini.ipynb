{
  "nbformat": 4,
  "nbformat_minor": 0,
  "metadata": {
    "colab": {
      "provenance": []
    },
    "kernelspec": {
      "name": "python3",
      "display_name": "Python 3"
    },
    "language_info": {
      "name": "python"
    }
  },
  "cells": [
    {
      "cell_type": "markdown",
      "source": [
        "### **READING DATASET**"
      ],
      "metadata": {
        "id": "3GlaIA48TSAB"
      }
    },
    {
      "cell_type": "code",
      "execution_count": null,
      "metadata": {
        "id": "SU8YdGcA49bH",
        "colab": {
          "base_uri": "https://localhost:8080/"
        },
        "outputId": "5585a589-d483-4075-88d9-b76b8bc33d43"
      },
      "outputs": [
        {
          "output_type": "execute_result",
          "data": {
            "text/plain": [
              "['.config', 'data.xlsx', 'sample_data']"
            ]
          },
          "metadata": {},
          "execution_count": 2
        }
      ],
      "source": [
        "import os\n",
        "\n",
        "# List files in the current directory\n",
        "os.listdir('/content/')\n"
      ]
    },
    {
      "cell_type": "code",
      "source": [
        "import pandas as pd"
      ],
      "metadata": {
        "id": "vWkGWzhl7JLq"
      },
      "execution_count": null,
      "outputs": []
    },
    {
      "cell_type": "code",
      "source": [
        "# Read the Excel file\n",
        "df = pd.read_excel('/content/data.xlsx')"
      ],
      "metadata": {
        "id": "EiuHSlvB7OOz"
      },
      "execution_count": null,
      "outputs": []
    },
    {
      "cell_type": "markdown",
      "source": [
        "### **EXTRACTING NECESSARY COLUMNS**"
      ],
      "metadata": {
        "id": "Cu06cSvSTeZx"
      }
    },
    {
      "cell_type": "code",
      "execution_count": null,
      "metadata": {
        "id": "8WyK1wzm5ZWl"
      },
      "outputs": [],
      "source": [
        "# List of columns to keep\n",
        "columns_to_keep = ['area', 'subarea', 'country', 'region_wb', 'incomegroup','year', 'population', 'gdp', 'gini'] + [f'p{i}' for i in range(1, 11)]"
      ]
    },
    {
      "cell_type": "code",
      "source": [
        "# Filter the DataFrame to keep only the specified columns\n",
        "df_filtered = df[columns_to_keep].copy()"
      ],
      "metadata": {
        "id": "Zo7uL9s-7xvU"
      },
      "execution_count": null,
      "outputs": []
    },
    {
      "cell_type": "code",
      "source": [
        "# Drop columns not in the list\n",
        "df_filtered.dropna(subset = ['gini'], inplace = True)"
      ],
      "metadata": {
        "id": "Hbvd65D171T3"
      },
      "execution_count": null,
      "outputs": []
    },
    {
      "cell_type": "code",
      "source": [
        "#saving the dataframe as CSV\n",
        "df_filtered.to_csv('/content/filtered_dataset.csv', index=False)"
      ],
      "metadata": {
        "id": "kgxtps0f736y"
      },
      "execution_count": null,
      "outputs": []
    },
    {
      "cell_type": "markdown",
      "source": [
        "### **DOWNLOADING THE FILTERD DATASET**"
      ],
      "metadata": {
        "id": "oVWGs_TJTq2W"
      }
    },
    {
      "cell_type": "code",
      "source": [
        "from google.colab import files"
      ],
      "metadata": {
        "id": "S4sv-38x77GC"
      },
      "execution_count": null,
      "outputs": []
    },
    {
      "cell_type": "code",
      "source": [
        "# Download the CSV file\n",
        "files.download('/content/filtered_dataset.csv')"
      ],
      "metadata": {
        "colab": {
          "base_uri": "https://localhost:8080/",
          "height": 17
        },
        "id": "t-RZzH9A7-WC",
        "outputId": "aeae3298-52b0-431d-b947-a8213f8b0b19"
      },
      "execution_count": null,
      "outputs": [
        {
          "output_type": "display_data",
          "data": {
            "text/plain": [
              "<IPython.core.display.Javascript object>"
            ],
            "application/javascript": [
              "\n",
              "    async function download(id, filename, size) {\n",
              "      if (!google.colab.kernel.accessAllowed) {\n",
              "        return;\n",
              "      }\n",
              "      const div = document.createElement('div');\n",
              "      const label = document.createElement('label');\n",
              "      label.textContent = `Downloading \"${filename}\": `;\n",
              "      div.appendChild(label);\n",
              "      const progress = document.createElement('progress');\n",
              "      progress.max = size;\n",
              "      div.appendChild(progress);\n",
              "      document.body.appendChild(div);\n",
              "\n",
              "      const buffers = [];\n",
              "      let downloaded = 0;\n",
              "\n",
              "      const channel = await google.colab.kernel.comms.open(id);\n",
              "      // Send a message to notify the kernel that we're ready.\n",
              "      channel.send({})\n",
              "\n",
              "      for await (const message of channel.messages) {\n",
              "        // Send a message to notify the kernel that we're ready.\n",
              "        channel.send({})\n",
              "        if (message.buffers) {\n",
              "          for (const buffer of message.buffers) {\n",
              "            buffers.push(buffer);\n",
              "            downloaded += buffer.byteLength;\n",
              "            progress.value = downloaded;\n",
              "          }\n",
              "        }\n",
              "      }\n",
              "      const blob = new Blob(buffers, {type: 'application/binary'});\n",
              "      const a = document.createElement('a');\n",
              "      a.href = window.URL.createObjectURL(blob);\n",
              "      a.download = filename;\n",
              "      div.appendChild(a);\n",
              "      a.click();\n",
              "      div.remove();\n",
              "    }\n",
              "  "
            ]
          },
          "metadata": {}
        },
        {
          "output_type": "display_data",
          "data": {
            "text/plain": [
              "<IPython.core.display.Javascript object>"
            ],
            "application/javascript": [
              "download(\"download_bb04ab97-b32d-43da-8fce-950faa087308\", \"filtered_dataset.csv\", 4689218)"
            ]
          },
          "metadata": {}
        }
      ]
    },
    {
      "cell_type": "markdown",
      "source": [
        "### **EXPLORING THE DATASET**"
      ],
      "metadata": {
        "id": "qbuqUCotT_It"
      }
    },
    {
      "cell_type": "code",
      "source": [
        "# Display the first few rows to verify\n",
        "print(df_filtered)"
      ],
      "metadata": {
        "colab": {
          "base_uri": "https://localhost:8080/"
        },
        "id": "aVpudk1C8Ba-",
        "outputId": "712c1586-d63c-4b13-c11e-049dbfed74de"
      },
      "execution_count": null,
      "outputs": [
        {
          "output_type": "stream",
          "name": "stdout",
          "text": [
            "          area  subarea   country           region_wb          incomegroup  \\\n",
            "0        World    World     World         All regions    All income groups   \n",
            "1        World    World     World         All regions    All income groups   \n",
            "2        World    World     World         All regions    All income groups   \n",
            "3        World    World     World         All regions    All income groups   \n",
            "4        World    World     World         All regions    All income groups   \n",
            "...        ...      ...       ...                 ...                  ...   \n",
            "16041  Country  Country  Zimbabwe  Sub-Saharan Africa  Lower middle income   \n",
            "16042  Country  Country  Zimbabwe  Sub-Saharan Africa  Lower middle income   \n",
            "16043  Country  Country  Zimbabwe  Sub-Saharan Africa  Lower middle income   \n",
            "16044  Country  Country  Zimbabwe  Sub-Saharan Africa  Lower middle income   \n",
            "16045  Country  Country  Zimbabwe  Sub-Saharan Africa  Lower middle income   \n",
            "\n",
            "       year    population      gdp    gini        p1        p2        p3  \\\n",
            "0      1950  2.536165e+09  4031.34  68.199  0.001980  0.006238  0.008008   \n",
            "1      1951  2.583738e+09  4189.22  68.047  0.002029  0.006475  0.009445   \n",
            "2      1952  2.630538e+09  4296.13  67.893  0.003803  0.006359  0.010253   \n",
            "3      1953  2.677255e+09  4443.39  67.720  0.004212  0.007950  0.010680   \n",
            "4      1954  2.724464e+09  4511.39  67.907  0.003204  0.006370  0.013576   \n",
            "...     ...           ...      ...     ...       ...       ...       ...   \n",
            "16041  2016  1.403034e+07  3678.22  57.534  0.068368  0.078373  0.080041   \n",
            "16042  2017  1.423660e+07  3795.64  57.668  0.070028  0.080032  0.080032   \n",
            "16043  2018  1.443881e+07  3923.03  57.668  0.070028  0.080032  0.080032   \n",
            "16044  2019  1.464547e+07  3630.03  57.668  0.070028  0.080032  0.080032   \n",
            "16045  2020  1.486293e+07  3353.41  57.668  0.070028  0.080032  0.080032   \n",
            "\n",
            "             p4        p5        p6        p7        p8        p9       p10  \n",
            "0      0.012780  0.018093  0.019289  0.027859  0.029830  0.035372  0.030730  \n",
            "1      0.014322  0.016119  0.024626  0.029140  0.033048  0.032654  0.043800  \n",
            "2      0.016368  0.017312  0.027488  0.028064  0.033429  0.043680  0.037335  \n",
            "3      0.019089  0.020801  0.022835  0.035852  0.037375  0.043543  0.040978  \n",
            "4      0.015326  0.018013  0.026580  0.025246  0.039806  0.033717  0.038538  \n",
            "...         ...       ...       ...       ...       ...       ...       ...  \n",
            "16041  0.090047  0.100052  0.118394  0.120062  0.130067  0.138404  0.140072  \n",
            "16042  0.090036  0.100040  0.120048  0.120048  0.130052  0.140056  0.140056  \n",
            "16043  0.090036  0.100040  0.120048  0.120048  0.130052  0.140056  0.140056  \n",
            "16044  0.090036  0.100040  0.120048  0.120048  0.130052  0.140056  0.140056  \n",
            "16045  0.090036  0.100040  0.120048  0.120048  0.130052  0.140056  0.140056  \n",
            "\n",
            "[15975 rows x 19 columns]\n"
          ]
        }
      ]
    },
    {
      "cell_type": "code",
      "source": [
        "print(df_filtered.head())"
      ],
      "metadata": {
        "colab": {
          "base_uri": "https://localhost:8080/"
        },
        "id": "MLBB3b-Z8Ndf",
        "outputId": "985bb495-c90a-4378-abef-82da05e96741"
      },
      "execution_count": null,
      "outputs": [
        {
          "output_type": "stream",
          "name": "stdout",
          "text": [
            "    area subarea country    region_wb        incomegroup  year    population  \\\n",
            "0  World   World   World  All regions  All income groups  1950  2.536165e+09   \n",
            "1  World   World   World  All regions  All income groups  1951  2.583738e+09   \n",
            "2  World   World   World  All regions  All income groups  1952  2.630538e+09   \n",
            "3  World   World   World  All regions  All income groups  1953  2.677255e+09   \n",
            "4  World   World   World  All regions  All income groups  1954  2.724464e+09   \n",
            "\n",
            "       gdp    gini        p1        p2        p3        p4        p5  \\\n",
            "0  4031.34  68.199  0.001980  0.006238  0.008008  0.012780  0.018093   \n",
            "1  4189.22  68.047  0.002029  0.006475  0.009445  0.014322  0.016119   \n",
            "2  4296.13  67.893  0.003803  0.006359  0.010253  0.016368  0.017312   \n",
            "3  4443.39  67.720  0.004212  0.007950  0.010680  0.019089  0.020801   \n",
            "4  4511.39  67.907  0.003204  0.006370  0.013576  0.015326  0.018013   \n",
            "\n",
            "         p6        p7        p8        p9       p10  \n",
            "0  0.019289  0.027859  0.029830  0.035372  0.030730  \n",
            "1  0.024626  0.029140  0.033048  0.032654  0.043800  \n",
            "2  0.027488  0.028064  0.033429  0.043680  0.037335  \n",
            "3  0.022835  0.035852  0.037375  0.043543  0.040978  \n",
            "4  0.026580  0.025246  0.039806  0.033717  0.038538  \n"
          ]
        }
      ]
    },
    {
      "cell_type": "code",
      "source": [
        "print(df_filtered.tail())"
      ],
      "metadata": {
        "colab": {
          "base_uri": "https://localhost:8080/"
        },
        "id": "yYLvg9-h8Q8e",
        "outputId": "a5d2d4c1-b3c3-4d69-ae15-3d113dd4b055"
      },
      "execution_count": null,
      "outputs": [
        {
          "output_type": "stream",
          "name": "stdout",
          "text": [
            "          area  subarea   country           region_wb          incomegroup  \\\n",
            "16041  Country  Country  Zimbabwe  Sub-Saharan Africa  Lower middle income   \n",
            "16042  Country  Country  Zimbabwe  Sub-Saharan Africa  Lower middle income   \n",
            "16043  Country  Country  Zimbabwe  Sub-Saharan Africa  Lower middle income   \n",
            "16044  Country  Country  Zimbabwe  Sub-Saharan Africa  Lower middle income   \n",
            "16045  Country  Country  Zimbabwe  Sub-Saharan Africa  Lower middle income   \n",
            "\n",
            "       year  population      gdp    gini        p1        p2        p3  \\\n",
            "16041  2016  14030338.0  3678.22  57.534  0.068368  0.078373  0.080041   \n",
            "16042  2017  14236599.0  3795.64  57.668  0.070028  0.080032  0.080032   \n",
            "16043  2018  14438812.0  3923.03  57.668  0.070028  0.080032  0.080032   \n",
            "16044  2019  14645473.0  3630.03  57.668  0.070028  0.080032  0.080032   \n",
            "16045  2020  14862927.0  3353.41  57.668  0.070028  0.080032  0.080032   \n",
            "\n",
            "             p4        p5        p6        p7        p8        p9       p10  \n",
            "16041  0.090047  0.100052  0.118394  0.120062  0.130067  0.138404  0.140072  \n",
            "16042  0.090036  0.100040  0.120048  0.120048  0.130052  0.140056  0.140056  \n",
            "16043  0.090036  0.100040  0.120048  0.120048  0.130052  0.140056  0.140056  \n",
            "16044  0.090036  0.100040  0.120048  0.120048  0.130052  0.140056  0.140056  \n",
            "16045  0.090036  0.100040  0.120048  0.120048  0.130052  0.140056  0.140056  \n"
          ]
        }
      ]
    },
    {
      "cell_type": "code",
      "source": [
        "print(df_filtered.info())"
      ],
      "metadata": {
        "colab": {
          "base_uri": "https://localhost:8080/"
        },
        "id": "ZEJtvdz98T2y",
        "outputId": "9b8ed7a7-0ca2-43a9-af4a-4200835085d3"
      },
      "execution_count": null,
      "outputs": [
        {
          "output_type": "stream",
          "name": "stdout",
          "text": [
            "<class 'pandas.core.frame.DataFrame'>\n",
            "Index: 15975 entries, 0 to 16045\n",
            "Data columns (total 19 columns):\n",
            " #   Column       Non-Null Count  Dtype  \n",
            "---  ------       --------------  -----  \n",
            " 0   area         15975 non-null  object \n",
            " 1   subarea      15975 non-null  object \n",
            " 2   country      15975 non-null  object \n",
            " 3   region_wb    15691 non-null  object \n",
            " 4   incomegroup  15478 non-null  object \n",
            " 5   year         15975 non-null  int64  \n",
            " 6   population   15904 non-null  float64\n",
            " 7   gdp          15904 non-null  float64\n",
            " 8   gini         15975 non-null  float64\n",
            " 9   p1           15691 non-null  float64\n",
            " 10  p2           15691 non-null  float64\n",
            " 11  p3           15691 non-null  float64\n",
            " 12  p4           15691 non-null  float64\n",
            " 13  p5           15691 non-null  float64\n",
            " 14  p6           15691 non-null  float64\n",
            " 15  p7           15691 non-null  float64\n",
            " 16  p8           15691 non-null  float64\n",
            " 17  p9           15691 non-null  float64\n",
            " 18  p10          15691 non-null  float64\n",
            "dtypes: float64(13), int64(1), object(5)\n",
            "memory usage: 2.4+ MB\n",
            "None\n"
          ]
        }
      ]
    },
    {
      "cell_type": "code",
      "source": [
        "print(df_filtered.describe())"
      ],
      "metadata": {
        "colab": {
          "base_uri": "https://localhost:8080/"
        },
        "id": "oOH0oOE18WLu",
        "outputId": "b42a82c2-6a6a-4b16-84bd-7476551a96fc"
      },
      "execution_count": null,
      "outputs": [
        {
          "output_type": "stream",
          "name": "stdout",
          "text": [
            "               year    population           gdp          gini            p1  \\\n",
            "count  15975.000000  1.590400e+04   15904.00000  15975.000000  15691.000000   \n",
            "mean    1985.000000  1.552308e+08   13696.53340     44.518932      0.101894   \n",
            "std       20.494543  7.327048e+08   19160.52842     12.009791      0.073254   \n",
            "min     1950.000000  1.490000e+03     284.14000      0.000000      0.000985   \n",
            "25%     1967.000000  7.790850e+05    2731.67250     35.415000      0.043069   \n",
            "50%     1985.000000  4.847216e+06    6742.82000     44.484000      0.090217   \n",
            "75%     2003.000000  1.947871e+07   16301.78750     53.153000      0.142114   \n",
            "max     2020.000000  7.792308e+09  227110.05000     77.085000      0.533104   \n",
            "\n",
            "                 p2            p3            p4            p5            p6  \\\n",
            "count  15691.000000  15691.000000  15691.000000  15691.000000  15691.000000   \n",
            "mean       0.134205      0.154567      0.173501      0.190565      0.212823   \n",
            "std        0.087907      0.096353      0.102708      0.108023      0.115339   \n",
            "min        0.005036      0.007101      0.008374      0.009587      0.010000   \n",
            "25%        0.062589      0.079036      0.091127      0.107122      0.121741   \n",
            "50%        0.124270      0.147315      0.166982      0.186105      0.209853   \n",
            "75%        0.189848      0.219539      0.240096      0.262130      0.291747   \n",
            "max        0.594088      0.624066      0.646009      0.662065      0.672893   \n",
            "\n",
            "                 p7            p8            p9           p10  \n",
            "count  15691.000000  15691.000000  15691.000000  15691.000000  \n",
            "mean       0.227203      0.240058      0.251468      0.262786  \n",
            "std        0.119218      0.122932      0.125292      0.127417  \n",
            "min        0.010000      0.010000      0.010000      0.010000  \n",
            "25%        0.137389      0.148185      0.158854      0.169137  \n",
            "50%        0.227335      0.240264      0.250275      0.260869  \n",
            "75%        0.310435      0.325664      0.340773      0.355185  \n",
            "max        0.682435      0.691075      0.699022      0.706422  \n"
          ]
        }
      ]
    },
    {
      "cell_type": "code",
      "source": [
        "print(df_filtered.columns)\n"
      ],
      "metadata": {
        "colab": {
          "base_uri": "https://localhost:8080/"
        },
        "id": "EfKqiWM73VpX",
        "outputId": "95e11a00-73b3-436a-e1d7-2ffec628575c"
      },
      "execution_count": null,
      "outputs": [
        {
          "output_type": "stream",
          "name": "stdout",
          "text": [
            "Index(['area', 'subarea', 'country', 'region_wb', 'incomegroup', 'year',\n",
            "       'population', 'gdp', 'gini', 'p1', 'p2', 'p3', 'p4', 'p5', 'p6', 'p7',\n",
            "       'p8', 'p9', 'p10', 'GDP_per_capita'],\n",
            "      dtype='object')\n"
          ]
        }
      ]
    },
    {
      "cell_type": "markdown",
      "source": [
        "### **HANDLING MISSING VAUES**"
      ],
      "metadata": {
        "id": "-z-xMNcn8aq-"
      }
    },
    {
      "cell_type": "code",
      "source": [
        "import pandas as pd\n",
        "from sklearn.model_selection import train_test_split\n",
        "from sklearn.linear_model import LinearRegression\n",
        "from sklearn.preprocessing import LabelEncoder\n",
        "from sklearn.metrics import mean_squared_error, r2_score\n",
        "import joblib"
      ],
      "metadata": {
        "id": "4WcRp1Wj4mln"
      },
      "execution_count": null,
      "outputs": []
    },
    {
      "cell_type": "code",
      "source": [
        "df_filtered = pd.read_csv('/content/filtered_dataset.csv')"
      ],
      "metadata": {
        "id": "wSuol7KI3gOB"
      },
      "execution_count": null,
      "outputs": []
    },
    {
      "cell_type": "code",
      "source": [
        "X = df_filtered.drop('gini', axis=1)\n",
        "y = df_filtered['gini']"
      ],
      "metadata": {
        "id": "a2Obo0cl3HaV"
      },
      "execution_count": null,
      "outputs": []
    },
    {
      "cell_type": "code",
      "source": [
        "print(\"Columns in X after dropping 'gini':\", X.columns)"
      ],
      "metadata": {
        "colab": {
          "base_uri": "https://localhost:8080/"
        },
        "id": "JZDGH_bH31bJ",
        "outputId": "d478c7e9-fca4-4388-8d3e-82b38d9c43bf"
      },
      "execution_count": null,
      "outputs": [
        {
          "output_type": "stream",
          "name": "stdout",
          "text": [
            "Columns in X after dropping 'gini': Index(['area', 'subarea', 'country', 'region_wb', 'incomegroup', 'year',\n",
            "       'population', 'gdp', 'p1', 'p2', 'p3', 'p4', 'p5', 'p6', 'p7', 'p8',\n",
            "       'p9', 'p10'],\n",
            "      dtype='object')\n"
          ]
        }
      ]
    },
    {
      "cell_type": "code",
      "source": [
        "numeric_cols = X.select_dtypes(include=['number']).columns\n",
        "non_numeric_cols = X.select_dtypes(exclude=['number']).columns"
      ],
      "metadata": {
        "id": "AoaQaWUR8YiJ"
      },
      "execution_count": null,
      "outputs": []
    },
    {
      "cell_type": "code",
      "source": [
        "print(numeric_cols)\n",
        "print(non_numeric_cols)"
      ],
      "metadata": {
        "colab": {
          "base_uri": "https://localhost:8080/"
        },
        "id": "igJpmW895D42",
        "outputId": "627116c5-dc09-4d2a-d473-096e5486b905"
      },
      "execution_count": null,
      "outputs": [
        {
          "output_type": "stream",
          "name": "stdout",
          "text": [
            "Index(['year', 'population', 'gdp', 'p1', 'p2', 'p3', 'p4', 'p5', 'p6', 'p7',\n",
            "       'p8', 'p9', 'p10'],\n",
            "      dtype='object')\n",
            "Index(['area', 'subarea', 'country', 'region_wb', 'incomegroup'], dtype='object')\n"
          ]
        }
      ]
    },
    {
      "cell_type": "code",
      "source": [
        "X[numeric_cols] = X[numeric_cols].fillna(X[numeric_cols].median())\n",
        "X[non_numeric_cols] = X[non_numeric_cols].fillna(X[non_numeric_cols].mode().iloc[0])"
      ],
      "metadata": {
        "id": "HnAPcda622tf"
      },
      "execution_count": null,
      "outputs": []
    },
    {
      "cell_type": "code",
      "source": [
        "categorical_columns = non_numeric_cols  # These are the columns that are non-numeric\n",
        "le = LabelEncoder()"
      ],
      "metadata": {
        "id": "ED0ZrniT5hhQ"
      },
      "execution_count": null,
      "outputs": []
    },
    {
      "cell_type": "code",
      "source": [
        "for col in categorical_columns:\n",
        "    if X[col].dtype == 'object':  # Ensure the column is of type object\n",
        "        X[col] = le.fit_transform(X[col])"
      ],
      "metadata": {
        "id": "OR9S4wyF5mGf"
      },
      "execution_count": null,
      "outputs": []
    },
    {
      "cell_type": "code",
      "source": [
        "# Split data into training and testing sets\n",
        "X_train, X_test, y_train, y_test = train_test_split(X, y, test_size=0.2, random_state=42)"
      ],
      "metadata": {
        "id": "osVA18r65zdo"
      },
      "execution_count": null,
      "outputs": []
    },
    {
      "cell_type": "code",
      "source": [
        "#using median to fill the missing values in numeric columns\n",
        "df_filtered[numeric_cols] = df_filtered[numeric_cols].fillna(df[numeric_cols].median())"
      ],
      "metadata": {
        "id": "P1OFTc6x8jkI"
      },
      "execution_count": null,
      "outputs": []
    },
    {
      "cell_type": "code",
      "source": [
        "# Fill missing values in non-numeric columns with 'Unknown' or the most frequent value\n",
        "df_filtered[non_numeric_cols] = df_filtered[non_numeric_cols].fillna(df_filtered[non_numeric_cols].mode().iloc[0])"
      ],
      "metadata": {
        "id": "I5KGocFA8nHF"
      },
      "execution_count": null,
      "outputs": []
    },
    {
      "cell_type": "markdown",
      "source": [
        "### **FEATURE ENGINEERING**"
      ],
      "metadata": {
        "id": "6IJMWpGK8tg6"
      }
    },
    {
      "cell_type": "code",
      "source": [
        "#calculating gdp per capita using gdp and population\n",
        "df_filtered['GDP_per_capita'] = df_filtered['gdp'] / df_filtered['population']"
      ],
      "metadata": {
        "id": "ByM7bcAc8qRX"
      },
      "execution_count": null,
      "outputs": []
    },
    {
      "cell_type": "code",
      "source": [
        "print(df_filtered['GDP_per_capita'])"
      ],
      "metadata": {
        "colab": {
          "base_uri": "https://localhost:8080/"
        },
        "id": "kVsfsSyO87Kk",
        "outputId": "5cce49d5-efc7-4770-8d72-9223223dc2ab"
      },
      "execution_count": null,
      "outputs": [
        {
          "output_type": "stream",
          "name": "stdout",
          "text": [
            "0        0.000002\n",
            "1        0.000002\n",
            "2        0.000002\n",
            "3        0.000002\n",
            "4        0.000002\n",
            "           ...   \n",
            "15970    0.000262\n",
            "15971    0.000267\n",
            "15972    0.000272\n",
            "15973    0.000248\n",
            "15974    0.000226\n",
            "Name: GDP_per_capita, Length: 15975, dtype: float64\n"
          ]
        }
      ]
    },
    {
      "cell_type": "markdown",
      "source": [
        "### **MODEL BUILDING**"
      ],
      "metadata": {
        "id": "FroWh1Ib9O4V"
      }
    },
    {
      "cell_type": "code",
      "source": [
        "from sklearn.linear_model import LinearRegression\n",
        "from sklearn.metrics import mean_squared_error, r2_score"
      ],
      "metadata": {
        "id": "PZOfFunc9Nit"
      },
      "execution_count": null,
      "outputs": []
    },
    {
      "cell_type": "code",
      "source": [
        "# Initialize and train the model\n",
        "model = LinearRegression()\n",
        "model.fit(X_train, y_train)"
      ],
      "metadata": {
        "id": "jEUfh0HB9TqW",
        "colab": {
          "base_uri": "https://localhost:8080/",
          "height": 74
        },
        "outputId": "b764cc60-fabb-421f-d76b-64901962499b"
      },
      "execution_count": null,
      "outputs": [
        {
          "output_type": "execute_result",
          "data": {
            "text/plain": [
              "LinearRegression()"
            ],
            "text/html": [
              "<style>#sk-container-id-2 {color: black;}#sk-container-id-2 pre{padding: 0;}#sk-container-id-2 div.sk-toggleable {background-color: white;}#sk-container-id-2 label.sk-toggleable__label {cursor: pointer;display: block;width: 100%;margin-bottom: 0;padding: 0.3em;box-sizing: border-box;text-align: center;}#sk-container-id-2 label.sk-toggleable__label-arrow:before {content: \"▸\";float: left;margin-right: 0.25em;color: #696969;}#sk-container-id-2 label.sk-toggleable__label-arrow:hover:before {color: black;}#sk-container-id-2 div.sk-estimator:hover label.sk-toggleable__label-arrow:before {color: black;}#sk-container-id-2 div.sk-toggleable__content {max-height: 0;max-width: 0;overflow: hidden;text-align: left;background-color: #f0f8ff;}#sk-container-id-2 div.sk-toggleable__content pre {margin: 0.2em;color: black;border-radius: 0.25em;background-color: #f0f8ff;}#sk-container-id-2 input.sk-toggleable__control:checked~div.sk-toggleable__content {max-height: 200px;max-width: 100%;overflow: auto;}#sk-container-id-2 input.sk-toggleable__control:checked~label.sk-toggleable__label-arrow:before {content: \"▾\";}#sk-container-id-2 div.sk-estimator input.sk-toggleable__control:checked~label.sk-toggleable__label {background-color: #d4ebff;}#sk-container-id-2 div.sk-label input.sk-toggleable__control:checked~label.sk-toggleable__label {background-color: #d4ebff;}#sk-container-id-2 input.sk-hidden--visually {border: 0;clip: rect(1px 1px 1px 1px);clip: rect(1px, 1px, 1px, 1px);height: 1px;margin: -1px;overflow: hidden;padding: 0;position: absolute;width: 1px;}#sk-container-id-2 div.sk-estimator {font-family: monospace;background-color: #f0f8ff;border: 1px dotted black;border-radius: 0.25em;box-sizing: border-box;margin-bottom: 0.5em;}#sk-container-id-2 div.sk-estimator:hover {background-color: #d4ebff;}#sk-container-id-2 div.sk-parallel-item::after {content: \"\";width: 100%;border-bottom: 1px solid gray;flex-grow: 1;}#sk-container-id-2 div.sk-label:hover label.sk-toggleable__label {background-color: #d4ebff;}#sk-container-id-2 div.sk-serial::before {content: \"\";position: absolute;border-left: 1px solid gray;box-sizing: border-box;top: 0;bottom: 0;left: 50%;z-index: 0;}#sk-container-id-2 div.sk-serial {display: flex;flex-direction: column;align-items: center;background-color: white;padding-right: 0.2em;padding-left: 0.2em;position: relative;}#sk-container-id-2 div.sk-item {position: relative;z-index: 1;}#sk-container-id-2 div.sk-parallel {display: flex;align-items: stretch;justify-content: center;background-color: white;position: relative;}#sk-container-id-2 div.sk-item::before, #sk-container-id-2 div.sk-parallel-item::before {content: \"\";position: absolute;border-left: 1px solid gray;box-sizing: border-box;top: 0;bottom: 0;left: 50%;z-index: -1;}#sk-container-id-2 div.sk-parallel-item {display: flex;flex-direction: column;z-index: 1;position: relative;background-color: white;}#sk-container-id-2 div.sk-parallel-item:first-child::after {align-self: flex-end;width: 50%;}#sk-container-id-2 div.sk-parallel-item:last-child::after {align-self: flex-start;width: 50%;}#sk-container-id-2 div.sk-parallel-item:only-child::after {width: 0;}#sk-container-id-2 div.sk-dashed-wrapped {border: 1px dashed gray;margin: 0 0.4em 0.5em 0.4em;box-sizing: border-box;padding-bottom: 0.4em;background-color: white;}#sk-container-id-2 div.sk-label label {font-family: monospace;font-weight: bold;display: inline-block;line-height: 1.2em;}#sk-container-id-2 div.sk-label-container {text-align: center;}#sk-container-id-2 div.sk-container {/* jupyter's `normalize.less` sets `[hidden] { display: none; }` but bootstrap.min.css set `[hidden] { display: none !important; }` so we also need the `!important` here to be able to override the default hidden behavior on the sphinx rendered scikit-learn.org. See: https://github.com/scikit-learn/scikit-learn/issues/21755 */display: inline-block !important;position: relative;}#sk-container-id-2 div.sk-text-repr-fallback {display: none;}</style><div id=\"sk-container-id-2\" class=\"sk-top-container\"><div class=\"sk-text-repr-fallback\"><pre>LinearRegression()</pre><b>In a Jupyter environment, please rerun this cell to show the HTML representation or trust the notebook. <br />On GitHub, the HTML representation is unable to render, please try loading this page with nbviewer.org.</b></div><div class=\"sk-container\" hidden><div class=\"sk-item\"><div class=\"sk-estimator sk-toggleable\"><input class=\"sk-toggleable__control sk-hidden--visually\" id=\"sk-estimator-id-2\" type=\"checkbox\" checked><label for=\"sk-estimator-id-2\" class=\"sk-toggleable__label sk-toggleable__label-arrow\">LinearRegression</label><div class=\"sk-toggleable__content\"><pre>LinearRegression()</pre></div></div></div></div></div>"
            ]
          },
          "metadata": {},
          "execution_count": 87
        }
      ]
    },
    {
      "cell_type": "code",
      "source": [
        "# Make predictions\n",
        "y_pred = model.predict(X_test)"
      ],
      "metadata": {
        "id": "TK48cevQ9jbq"
      },
      "execution_count": null,
      "outputs": []
    },
    {
      "cell_type": "markdown",
      "source": [
        "**Evaluating the Model**"
      ],
      "metadata": {
        "id": "iC0xtlro_dpd"
      }
    },
    {
      "cell_type": "code",
      "source": [
        "# Evaluate the model\n",
        "mse = mean_squared_error(y_test, y_pred)\n",
        "r2 = r2_score(y_test, y_pred)"
      ],
      "metadata": {
        "id": "39LoCfwn9mN1"
      },
      "execution_count": null,
      "outputs": []
    },
    {
      "cell_type": "code",
      "source": [
        "print(f'Mean Squared Error: {mse}')\n",
        "print(f'R-squared: {r2}')"
      ],
      "metadata": {
        "colab": {
          "base_uri": "https://localhost:8080/"
        },
        "id": "YmvIzkxO9sAO",
        "outputId": "080832c2-d6ec-457c-a8c3-3f5e6834118a"
      },
      "execution_count": null,
      "outputs": [
        {
          "output_type": "stream",
          "name": "stdout",
          "text": [
            "Mean Squared Error: 30.363198694795145\n",
            "R-squared: 0.7906903564323771\n"
          ]
        }
      ]
    },
    {
      "cell_type": "markdown",
      "source": [
        "### **SAVING THE MODEL**"
      ],
      "metadata": {
        "id": "ru-feTPG-XqP"
      }
    },
    {
      "cell_type": "code",
      "source": [
        "import joblib"
      ],
      "metadata": {
        "id": "nEUwmlbK9u7A"
      },
      "execution_count": null,
      "outputs": []
    },
    {
      "cell_type": "code",
      "source": [
        "# Save the trained model\n",
        "joblib.dump(model, 'gini_index_model.pkl')"
      ],
      "metadata": {
        "colab": {
          "base_uri": "https://localhost:8080/"
        },
        "id": "idJbh3o0-PiM",
        "outputId": "48a1d084-db4c-4fb8-ec68-5c242c7a8231"
      },
      "execution_count": null,
      "outputs": [
        {
          "output_type": "execute_result",
          "data": {
            "text/plain": [
              "['gini_index_model.pkl']"
            ]
          },
          "metadata": {},
          "execution_count": 92
        }
      ]
    },
    {
      "cell_type": "code",
      "source": [
        "print(\"Model and scaler saved successfully!\")"
      ],
      "metadata": {
        "colab": {
          "base_uri": "https://localhost:8080/"
        },
        "id": "YwccRwX1-geI",
        "outputId": "d73d966c-23fc-4430-d93f-212e37d32ee5"
      },
      "execution_count": null,
      "outputs": [
        {
          "output_type": "stream",
          "name": "stdout",
          "text": [
            "Model and scaler saved successfully!\n"
          ]
        }
      ]
    }
  ]
}